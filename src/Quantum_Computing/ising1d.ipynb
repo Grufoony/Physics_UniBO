{
 "cells": [
  {
   "cell_type": "markdown",
   "metadata": {},
   "source": [
    "# Ising 1D using QPE\n",
    "\n",
    "Hamiltonian\n",
    "$$\n",
    "H = -\\sum_j \\sigma^z_j \\sigma^z_{j+1}\n",
    "$$"
   ]
  },
  {
   "cell_type": "code",
   "execution_count": 106,
   "metadata": {},
   "outputs": [
    {
     "name": "stderr",
     "output_type": "stream",
     "text": [
      "/home/grufoony/.local/lib/python3.10/site-packages/qiskit/visualization/circuit/matplotlib.py:266: FutureWarning: The default matplotlib drawer scheme will be changed to \"iqp\" in a following release. To silence this warning, specify the current default explicitly as style=\"clifford\", or the new default as style=\"iqp\".\n",
      "  self._style, def_font_ratio = load_style(self._style)\n"
     ]
    },
    {
     "data": {
      "image/png": "[encoded data removed]",
      "text/plain": [
       "<Figure size 370.906x200.667 with 1 Axes>"
      ]
     },
     "execution_count": 106,
     "metadata": {},
     "output_type": "execute_result"
    }
   ],
   "source": [
    "from qiskit import QuantumCircuit\n",
    "from tqdm.notebook import trange\n",
    "import numpy as np\n",
    "from qiskit import Aer, transpile\n",
    "from qiskit.visualization import plot_histogram\n",
    "\n",
    "t = np.pi / 4\n",
    "\n",
    "ising_gate = QuantumCircuit(2)\n",
    "ising_gate.cx(1, 0) # cambio di base\n",
    "ising_gate.rz(2 * t, 0)\n",
    "ising_gate.cx(1, 0) # torno alla base originale\n",
    "U_ising = ising_gate.to_gate(label = 'U_ising').control(1)\n",
    "ising_gate.draw('mpl')"
   ]
  },
  {
   "cell_type": "code",
   "execution_count": 107,
   "metadata": {},
   "outputs": [
    {
     "data": {
      "text/plain": [
       "<qiskit.circuit.instructionset.InstructionSet at 0x7f39d4bb5b40>"
      ]
     },
     "execution_count": 107,
     "metadata": {},
     "output_type": "execute_result"
    }
   ],
   "source": [
    "n_counting = 12\n",
    "n_used = 2\n",
    "\n",
    "ising = QuantumCircuit(n_used + n_counting, n_counting)\n",
    "for qubit in range(n_counting):\n",
    "    ising.h(qubit)\n",
    "\n",
    "ising.x(n_counting)\n",
    "ising.x(n_counting + 1)\n",
    "# qubit 3 in 0\n",
    "# ising.draw(\"mpl\")"
   ]
  },
  {
   "cell_type": "code",
   "execution_count": 108,
   "metadata": {},
   "outputs": [
    {
     "data": {
      "application/vnd.jupyter.widget-view+json": {
       "model_id": "9263f724965b45f7bc8d74eaffd72bad",
       "version_major": 2,
       "version_minor": 0
      },
      "text/plain": [
       "  0%|          | 0/12 [00:00<?, ?it/s]"
      ]
     },
     "metadata": {},
     "output_type": "display_data"
    },
    {
     "data": {
      "application/vnd.jupyter.widget-view+json": {
       "model_id": "6cdb4bb4b1b84d7d828ca9e887ed4365",
       "version_major": 2,
       "version_minor": 0
      },
      "text/plain": [
       "  0%|          | 0/1 [00:00<?, ?it/s]"
      ]
     },
     "metadata": {},
     "output_type": "display_data"
    },
    {
     "data": {
      "application/vnd.jupyter.widget-view+json": {
       "model_id": "df327fe6765e4de298eb6efafa985d82",
       "version_major": 2,
       "version_minor": 0
      },
      "text/plain": [
       "  0%|          | 0/2 [00:00<?, ?it/s]"
      ]
     },
     "metadata": {},
     "output_type": "display_data"
    },
    {
     "data": {
      "application/vnd.jupyter.widget-view+json": {
       "model_id": "32db825685aa42d8accd1a3881dde631",
       "version_major": 2,
       "version_minor": 0
      },
      "text/plain": [
       "  0%|          | 0/4 [00:00<?, ?it/s]"
      ]
     },
     "metadata": {},
     "output_type": "display_data"
    },
    {
     "data": {
      "application/vnd.jupyter.widget-view+json": {
       "model_id": "cc7bc39be0fb469198fce92e5e1903ed",
       "version_major": 2,
       "version_minor": 0
      },
      "text/plain": [
       "  0%|          | 0/8 [00:00<?, ?it/s]"
      ]
     },
     "metadata": {},
     "output_type": "display_data"
    },
    {
     "data": {
      "application/vnd.jupyter.widget-view+json": {
       "model_id": "2d304442cc08498588a69bf5a1572d46",
       "version_major": 2,
       "version_minor": 0
      },
      "text/plain": [
       "  0%|          | 0/16 [00:00<?, ?it/s]"
      ]
     },
     "metadata": {},
     "output_type": "display_data"
    },
    {
     "data": {
      "application/vnd.jupyter.widget-view+json": {
       "model_id": "f950bf2e89a44600b732d976b081b0b3",
       "version_major": 2,
       "version_minor": 0
      },
      "text/plain": [
       "  0%|          | 0/32 [00:00<?, ?it/s]"
      ]
     },
     "metadata": {},
     "output_type": "display_data"
    },
    {
     "data": {
      "application/vnd.jupyter.widget-view+json": {
       "model_id": "6d45ac3526d64410ae90071ae6e5c611",
       "version_major": 2,
       "version_minor": 0
      },
      "text/plain": [
       "  0%|          | 0/64 [00:00<?, ?it/s]"
      ]
     },
     "metadata": {},
     "output_type": "display_data"
    },
    {
     "data": {
      "application/vnd.jupyter.widget-view+json": {
       "model_id": "0ff9c5ba44c34a349a3cb3ccc4e83d6a",
       "version_major": 2,
       "version_minor": 0
      },
      "text/plain": [
       "  0%|          | 0/128 [00:00<?, ?it/s]"
      ]
     },
     "metadata": {},
     "output_type": "display_data"
    },
    {
     "data": {
      "application/vnd.jupyter.widget-view+json": {
       "model_id": "1101c87fbb374ebfaa73a584a9dbc660",
       "version_major": 2,
       "version_minor": 0
      },
      "text/plain": [
       "  0%|          | 0/256 [00:00<?, ?it/s]"
      ]
     },
     "metadata": {},
     "output_type": "display_data"
    },
    {
     "data": {
      "application/vnd.jupyter.widget-view+json": {
       "model_id": "8582898d02fd46caac0757f23ee829de",
       "version_major": 2,
       "version_minor": 0
      },
      "text/plain": [
       "  0%|          | 0/512 [00:00<?, ?it/s]"
      ]
     },
     "metadata": {},
     "output_type": "display_data"
    },
    {
     "data": {
      "application/vnd.jupyter.widget-view+json": {
       "model_id": "e1bf9305aeba4752bd81b68e57686dad",
       "version_major": 2,
       "version_minor": 0
      },
      "text/plain": [
       "  0%|          | 0/1024 [00:00<?, ?it/s]"
      ]
     },
     "metadata": {},
     "output_type": "display_data"
    },
    {
     "data": {
      "application/vnd.jupyter.widget-view+json": {
       "model_id": "b55e8dc8cf6a4ae092eadb2312d1c1de",
       "version_major": 2,
       "version_minor": 0
      },
      "text/plain": [
       "  0%|          | 0/2048 [00:00<?, ?it/s]"
      ]
     },
     "metadata": {},
     "output_type": "display_data"
    }
   ],
   "source": [
    "t = np.pi/4\n",
    "\n",
    "repetitions = 1\n",
    "for counting_qubit in trange(n_counting):\n",
    "    for i in trange(repetitions, leave = False):\n",
    "        # apply ising gate\n",
    "        ising.append(U_ising, [counting_qubit] + list(range(n_counting, n_counting + n_used)))\n",
    "    repetitions *= 2\n",
    "# ising.draw(output='mpl')"
   ]
  },
  {
   "cell_type": "code",
   "execution_count": 109,
   "metadata": {},
   "outputs": [],
   "source": [
    "def iqft(qCircuit, n):\n",
    "    '''\n",
    "    Apply the inverse quantum Fourier transform to the first n qubits in qCircuit\n",
    "    '''\n",
    "    for qubit in range(n//2):\n",
    "        qCircuit.swap(qubit, n-qubit-1)\n",
    "    for j in range(n):\n",
    "        for m in range(j):\n",
    "            qCircuit.cp(-np.pi/float(2**(j-m)), m, j)\n",
    "        qCircuit.h(j)"
   ]
  },
  {
   "cell_type": "code",
   "execution_count": 110,
   "metadata": {},
   "outputs": [],
   "source": [
    "ising.barrier()\n",
    "iqft(ising, n_counting)\n",
    "ising.barrier()\n",
    "\n",
    "for n in range(n_counting):\n",
    "    ising.measure(n,n)\n",
    "\n",
    "# ising.draw(output='mpl')"
   ]
  },
  {
   "cell_type": "code",
   "execution_count": 111,
   "metadata": {},
   "outputs": [
    {
     "data": {
      "image/png": "[encoded data removed]",
      "text/plain": [
       "<Figure size 700x500 with 1 Axes>"
      ]
     },
     "execution_count": 111,
     "metadata": {},
     "output_type": "execute_result"
    }
   ],
   "source": [
    "simulator = Aer.get_backend('aer_simulator')\n",
    "N = 2**11\n",
    "t_qpe = transpile(ising, simulator)\n",
    "\n",
    "result = simulator.run(t_qpe, shots=N).result()\n",
    "plot_histogram(result.get_counts())"
   ]
  },
  {
   "cell_type": "code",
   "execution_count": 113,
   "metadata": {},
   "outputs": [
    {
     "name": "stdout",
     "output_type": "stream",
     "text": [
      "The result is 0.875\n"
     ]
    }
   ],
   "source": [
    "# get max count and convert to binary\n",
    "counts = result.get_counts()\n",
    "max_count = 0\n",
    "max_count = max(counts, key=counts.get)\n",
    "# revert string\n",
    "# max_count = max_count[::-1]\n",
    "# convert to decimal\n",
    "max_count = int(max_count, 2)\n",
    "# divide by 2^n\n",
    "max_count /= 2**n_counting\n",
    "# print result\n",
    "print(f\"The result is {max_count}\")"
   ]
  }
 ],
 "metadata": {
  "kernelspec": {
   "display_name": "Python 3",
   "language": "python",
   "name": "python3"
  },
  "language_info": {
   "codemirror_mode": {
    "name": "ipython",
    "version": 3
   },
   "file_extension": ".py",
   "mimetype": "text/x-python",
   "name": "python",
   "nbconvert_exporter": "python",
   "pygments_lexer": "ipython3",
   "version": "3.10.12"
  }
 },
 "nbformat": 4,
 "nbformat_minor": 2
}
